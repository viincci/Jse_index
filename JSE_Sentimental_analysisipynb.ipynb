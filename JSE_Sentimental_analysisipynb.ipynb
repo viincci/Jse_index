{
  "nbformat": 4,
  "nbformat_minor": 0,
  "metadata": {
    "colab": {
      "provenance": []
    },
    "kernelspec": {
      "name": "python3",
      "display_name": "Python 3"
    },
    "language_info": {
      "name": "python"
    }
  },
  "cells": [
    {
      "cell_type": "code",
      "execution_count": null,
      "metadata": {
        "id": "xT98KpL5DAst"
      },
      "outputs": [],
      "source": [
        "!pip install -q yfinance requests transformers torch matplotlib pandas seaborn"
      ]
    },
    {
      "cell_type": "code",
      "source": [
        "\n",
        "import yfinance as yf\n",
        "import requests\n",
        "import pandas as pd\n",
        "import matplotlib.pyplot as plt\n",
        "import seaborn as sns\n",
        "from transformers import pipeline"
      ],
      "metadata": {
        "id": "ZwOsMIeADWXW"
      },
      "execution_count": null,
      "outputs": []
    },
    {
      "cell_type": "code",
      "source": [
        "# Fetch JSE  Index data\n",
        "jse_index = \"JSE.JO\"  # JSE\n",
        "data = yf.download(jse_index, period=\"7d\", interval=\"1d\")\n",
        "\n",
        "# Display data\n",
        "print(data.tail())"
      ],
      "metadata": {
        "colab": {
          "base_uri": "https://localhost:8080/"
        },
        "id": "okfrejzzDeOH",
        "outputId": "8be23c48-d95c-4dde-e2db-435e6b2f9889"
      },
      "execution_count": null,
      "outputs": [
        {
          "output_type": "stream",
          "name": "stderr",
          "text": [
            "\r[*********************100%***********************]  1 of 1 completed"
          ]
        },
        {
          "output_type": "stream",
          "name": "stdout",
          "text": [
            "Price         Close     High      Low     Open  Volume\n",
            "Ticker       JSE.JO   JSE.JO   JSE.JO   JSE.JO  JSE.JO\n",
            "Date                                                  \n",
            "2025-03-12  12656.0  12752.0  12440.0  12752.0  145990\n",
            "2025-03-13  12689.0  12862.0  12600.0  12660.0  108782\n",
            "2025-03-14  12792.0  12876.0  12521.0  12876.0   63773\n",
            "2025-03-17  12706.0  12889.0  12706.0  12792.0  136876\n",
            "2025-03-18  12612.0  12877.0  12550.0  12800.0  196273\n"
          ]
        },
        {
          "output_type": "stream",
          "name": "stderr",
          "text": [
            "\n"
          ]
        }
      ]
    },
    {
      "cell_type": "code",
      "source": [
        "# Replace with your free API key if required\n",
        "API_KEY = \"\"\n",
        "NEWS_API_URL = \"https://gnews.io/api/v4/search?q=JSE&lang=en&country=za&token=\" + API_KEY\n",
        "\n",
        "# Fetch news data\n",
        "response = requests.get(NEWS_API_URL)\n",
        "news_data = response.json()\n",
        "\n",
        "# Extract headlines\n",
        "articles = news_data.get(\"articles\", [])\n",
        "news_headlines = [article[\"title\"] for article in articles]\n",
        "\n",
        "# Print sample headlines\n",
        "for i, headline in enumerate(news_headlines[:5]):\n",
        "    print(f\"{i+1}. {headline}\")"
      ],
      "metadata": {
        "colab": {
          "base_uri": "https://localhost:8080/"
        },
        "id": "Nvc4vxcwH4Mv",
        "outputId": "b737d464-54c9-434c-c248-86ddda8187ab"
      },
      "execution_count": null,
      "outputs": [
        {
          "output_type": "stream",
          "name": "stdout",
          "text": [
            "1. Johannesburg is Africa's wealthiest city\n",
            "2. MiX Telematics to acquire Trimble's Field Service Management Business\n",
            "3. EMERGING MARKETS-Rebound in Chinese shares powers broader rally; c.bank decisions awaited\n",
            "4. Delhi High Court invites applications for HJSE and JSE recruitment 2022 ; check details here\n",
            "5. The biggest lesson from fifty years of trading on the JSE\n"
          ]
        }
      ]
    },
    {
      "cell_type": "code",
      "source": [
        "# Load sentiment analysis model\n",
        "sentiment_pipeline = pipeline(\"text-classification\", model=\"ProsusAI/finbert\")\n",
        "\n",
        "# Analyze sentiment of news headlines\n",
        "sentiments = [sentiment_pipeline(headline)[0] for headline in news_headlines]\n",
        "\n",
        "# Convert to DataFrame\n",
        "sentiment_df = pd.DataFrame({\n",
        "    \"Headline\": news_headlines,\n",
        "    \"Sentiment\": [s[\"label\"] for s in sentiments],\n",
        "    \"Score\": [s[\"score\"] for s in sentiments]\n",
        "})\n",
        "\n",
        "# Display results\n",
        "print(sentiment_df)"
      ],
      "metadata": {
        "colab": {
          "base_uri": "https://localhost:8080/"
        },
        "id": "CCtztsiOIVd6",
        "outputId": "25bcb255-70f2-4814-ac40-af8e876575c1"
      },
      "execution_count": null,
      "outputs": [
        {
          "output_type": "stream",
          "name": "stderr",
          "text": [
            "Device set to use cpu\n"
          ]
        },
        {
          "output_type": "stream",
          "name": "stdout",
          "text": [
            "                                            Headline Sentiment     Score\n",
            "0           Johannesburg is Africa's wealthiest city   neutral  0.828153\n",
            "1  MiX Telematics to acquire Trimble's Field Serv...   neutral  0.899545\n",
            "2  EMERGING MARKETS-Rebound in Chinese shares pow...  positive  0.751160\n",
            "3  Delhi High Court invites applications for HJSE...   neutral  0.937798\n",
            "4  The biggest lesson from fifty years of trading...   neutral  0.813365\n",
            "5  The biggest lesson from 50 years of trading on...   neutral  0.804624\n",
            "6  AngloGold Ashanti Submits Proposal to Acquire ...   neutral  0.907175\n",
            "7  SOL: Sasol Lmited: Appointment Of Executive Di...   neutral  0.947943\n",
            "8  Grindrod Shipping Holdings Ltd. Announces Shar...   neutral  0.874847\n",
            "9  Alphamin Announces Record Q1 2021 EBITDA of US...   neutral  0.865207\n"
          ]
        }
      ]
    },
    {
      "cell_type": "code",
      "source": [
        "# Count sentiment categories\n",
        "sentiment_counts = sentiment_df[\"Sentiment\"].value_counts()\n",
        "\n",
        "# Plot sentiment distribution\n",
        "plt.figure(figsize=(8,5))\n",
        "sns.barplot(x=sentiment_counts.index, y=sentiment_counts.values, palette=\"coolwarm\")\n",
        "plt.title(\"JSE News Sentiment Distribution\")\n",
        "plt.xlabel(\"Sentiment\")\n",
        "plt.ylabel(\"Count\")\n",
        "plt.show()"
      ],
      "metadata": {
        "colab": {
          "base_uri": "https://localhost:8080/",
          "height": 357
        },
        "id": "lsVy23C2Ip5D",
        "outputId": "3abfa192-e5f5-4c0c-ef84-145eb6841af1"
      },
      "execution_count": null,
      "outputs": [
        {
          "output_type": "stream",
          "name": "stderr",
          "text": [
            "<ipython-input-12-aaaef5f42637>:6: FutureWarning: \n",
            "\n",
            "Passing `palette` without assigning `hue` is deprecated and will be removed in v0.14.0. Assign the `x` variable to `hue` and set `legend=False` for the same effect.\n",
            "\n",
            "  sns.barplot(x=sentiment_counts.index, y=sentiment_counts.values, palette=\"coolwarm\")\n"
          ]
        },
        {
          "output_type": "display_data",
          "data": {
            "text/plain": [
              "<Figure size 800x500 with 1 Axes>"
            ],
            "image/png": "[encoded data removed]"
          },
          "metadata": {}
        }
      ]
    }
  ]
}
